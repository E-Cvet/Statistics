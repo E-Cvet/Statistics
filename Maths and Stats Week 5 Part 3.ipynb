{
 "cells": [
  {
   "cell_type": "markdown",
   "id": "e2d15158",
   "metadata": {},
   "source": [
    "# Week 5"
   ]
  },
  {
   "cell_type": "code",
   "execution_count": 5,
   "id": "1ea125d3",
   "metadata": {},
   "outputs": [],
   "source": [
    "# Loading the libraries\n",
    "import numpy as np\n",
    "import pandas as pd\n",
    "import matplotlib.pyplot as plt\n",
    "from matplotlib_venn import venn2, venn3, venn2_circles, venn3_circles\n",
    "import scipy.stats as stats\n",
    "import random\n",
    "\n",
    "# Loading the libraries\n",
    "import numpy as np\n",
    "import sympy as sp\n",
    "import pandas as pd\n",
    "import matplotlib.pyplot as plt\n",
    "import seaborn as sns\n",
    "import scipy.stats as stats\n",
    "import random"
   ]
  },
  {
   "cell_type": "markdown",
   "id": "510b45bd",
   "metadata": {},
   "source": [
    "## Week 4 Day 3: Intro to Probability (2)\n",
    "### Bayes' Theorem\n",
    "* The Bayes' Theorem is a result in probability theory which relates the conditinal probabilities of two events, $A$ and $B$. It is a simple and powerful tool that allows us to *reverse the conditioning* in a conditional probability calculations. In short, it says that the relation between $P(A \\mid B)$ and $P(B \\mid A)$ is given by\n",
    "\\begin{equation} P(A \\mid B) = \\frac{P(B \\mid A) \\cdot P(A)}{P(B)} \\end{equation}\n",
    "This result extends beyond simple probabilities and is heavily exploited in classification methods in machine learning (and not just there)\n",
    "\n",
    "We will demonstrate its application on through examples.\n",
    "\n",
    "### Example 1\n",
    "* It is estimated that 4% of people who spend time in the woods will get Lyme disease. Of people with Lyme disease, the test to determine if you have it is will give a positive reading 97% of the time. Of people who do not have Lyme disease, the same test will give a negative rating 92% of the time. Find the probability that a **person really has Lyme disease, given that they test positive**."
   ]
  },
  {
   "cell_type": "code",
   "execution_count": 66,
   "id": "75b57391",
   "metadata": {},
   "outputs": [
    {
     "name": "stdout",
     "output_type": "stream",
     "text": [
      "P(L) = 0.0397\n",
      "P(L') = 0.9603\n",
      "P(+ | L) = 0.0385\n",
      "P(- | L) = 0.0012\n",
      "P(+) = 0.1155\n",
      "---\n",
      "P(L | +) = ( P(+ | L) * P(L) ) / P(+) = 0.013233333333333333\n"
     ]
    }
   ],
   "source": [
    "# Number of simulations:\n",
    "n = 10000\n",
    "\n",
    "# Initialize variables:\n",
    "hasLyme, noLyme = 0, 0\n",
    "\n",
    "hasLymeAndPositive, hasLymeAndNegative = 0, 0\n",
    "\n",
    "positiveTest = 0\n",
    "\n",
    "# Simulations:\n",
    "for i in range(n):\n",
    "    prob = np.random.random()\n",
    "    test = np.random.random()\n",
    "    \n",
    "    if prob <= 0.04:\n",
    "        # has Lyme\n",
    "        hasLyme += 1\n",
    "        \n",
    "        if test <= 0.03:\n",
    "            # has negative test result and lymes\n",
    "            hasLymeAndNegative += 1\n",
    "        else:\n",
    "            # has positive test result and lymes\n",
    "            hasLymeAndPositive += 1\n",
    "            \n",
    "            positiveTest += 1\n",
    "            \n",
    "    else:\n",
    "        # does not have Lyme\n",
    "        noLyme += 1\n",
    "        \n",
    "        if test <= 0.08:\n",
    "            positiveTest += 1\n",
    "\n",
    "\n",
    "print(f\"P(L) = {hasLyme / n}\")\n",
    "print(f\"P(L') = {noLyme / n}\")\n",
    "print(f\"P(+ | L) = {hasLymeAndPositive / n}\")\n",
    "print(f\"P(- | L) = {hasLymeAndNegative / n}\")\n",
    "print(f\"P(+) = {positiveTest / n}\")\n",
    "print('---')\n",
    "print(f\"P(L | +) = ( P(+ | L) * P(L) ) / P(+) = {((hasLymeAndPositive / n) * (hasLyme / n)) / (positiveTest / n)}\")"
   ]
  },
  {
   "cell_type": "code",
   "execution_count": 67,
   "id": "7975eb94",
   "metadata": {},
   "outputs": [
    {
     "name": "stdout",
     "output_type": "stream",
     "text": [
      "P(L) = 0.0424\n",
      "P(L') = 0.0\n",
      "P(+ | L) = 0.0412\n",
      "P(- | L) = 0.0\n",
      "P(+) = 0.1182\n",
      "---\n",
      "P(L | +) = ( P(+ | L) * P(L) ) / P(+) = 0.014779018612521152\n"
     ]
    }
   ],
   "source": [
    "# Number of simulations:\n",
    "n = 10000\n",
    "\n",
    "# Initialize variables:\n",
    "hasLyme, noLyme = 0, 0\n",
    "\n",
    "hasLymeAndPositive, hasLymeAndNegative = 0, 0\n",
    "\n",
    "positiveTest = 0\n",
    "\n",
    "# Simulations:\n",
    "for i in range(n):\n",
    "    prob = np.random.random()\n",
    "    test = np.random.random()\n",
    "    \n",
    "    if prob <= 0.04:\n",
    "        # has Lyme\n",
    "        hasLyme += 1\n",
    "        \n",
    "        if test <= 0.97:\n",
    "            hasLymeAndPositive += 1\n",
    "            \n",
    "            positiveTest += 1\n",
    "            \n",
    "    else:\n",
    "        if test <= 0.08: positiveTest += 1\n",
    "\n",
    "\n",
    "print(f\"P(L) = {hasLyme / n}\")\n",
    "print(f\"P(L') = {noLyme / n}\")\n",
    "print(f\"P(+ | L) = {hasLymeAndPositive / n}\")\n",
    "print(f\"P(- | L) = {hasLymeAndNegative / n}\")\n",
    "print(f\"P(+) = {positiveTest / n}\")\n",
    "print('---')\n",
    "print(f\"P(L | +) = ( P(+ | L) * P(L) ) / P(+) = {((hasLymeAndPositive / n) * (hasLyme / n)) / (positiveTest / n)}\")"
   ]
  },
  {
   "cell_type": "markdown",
   "id": "a2f71efc",
   "metadata": {},
   "source": [
    "### Example 2\n",
    "Tom has three ways of getting to work. 30% of the time he travels by car, 20% of the time he rides his bicycle and 50% of the time he walks.\n",
    "\n",
    "* When travelling by car, Tom is late 5% of the time.\n",
    "* When riding his bicycle he is late 10% of the time.\n",
    "* When walking he is late 25% of the time.\n",
    "\n",
    "Given that he was on time one day, find the probability that he got to work riding his bicycle."
   ]
  },
  {
   "cell_type": "code",
   "execution_count": 73,
   "id": "85d64cd7",
   "metadata": {},
   "outputs": [
    {
     "name": "stdout",
     "output_type": "stream",
     "text": [
      "P(B) = 0.2054\n",
      "P(C) = 0.3076\n",
      "P(W) = 0.487\n",
      "---\n",
      "P(L') = 0.8448\n",
      "P(B and L') = 0.1838\n",
      "---\n",
      "P(B | L') = P(B and L') / P(L') = 0.21756628787878787\n"
     ]
    }
   ],
   "source": [
    "# Number of simulations:\n",
    "n = 5000\n",
    "\n",
    "# Initialize variables:\n",
    "b, c, w = 0, 0, 0\n",
    "\n",
    "notLate = 0\n",
    "\n",
    "BicycleAndNotLate = 0\n",
    "\n",
    "# Simulations:\n",
    "for i in range(n):\n",
    "    transport = np.random.random()\n",
    "    late = np.random.random()\n",
    "    \n",
    "    if transport <= 0.2:\n",
    "        # Bicycle:\n",
    "        b += 1\n",
    "        \n",
    "        # Not Late:\n",
    "        if late <= 0.9:\n",
    "            # Bicycle and Not Late:\n",
    "            BicycleAndNotLate += 1\n",
    "            notLate += 1\n",
    "    \n",
    "    elif 0.2 < transport <= 0.5:\n",
    "        # Car:\n",
    "        c += 1\n",
    "        \n",
    "        if late <= 0.95:\n",
    "            # Car and Not Late\n",
    "            notLate += 1\n",
    "        \n",
    "    else:\n",
    "        # Walk:\n",
    "        w += 1\n",
    "        \n",
    "        if late <= 0.75:\n",
    "            # Walk and Not Late:\n",
    "            notLate += 1\n",
    "\n",
    "P_B = b / n\n",
    "P_C = c / n\n",
    "P_W = w / n\n",
    "\n",
    "P_notLate = notLate / n\n",
    "P_BicycleAndNotLate = BicycleAndNotLate / n\n",
    "\n",
    "print(f\"P(B) = {P_B}\")\n",
    "print(f\"P(C) = {P_C}\")\n",
    "print(f\"P(W) = {P_W}\")\n",
    "print(\"---\")\n",
    "print(f\"P(L') = {P_notLate}\")\n",
    "print(f\"P(B and L') = {P_BicycleAndNotLate}\")\n",
    "print(\"---\")\n",
    "print(f\"P(B | L') = P(B and L') / P(L') = {P_BicycleAndNotLate / P_notLate}\")"
   ]
  },
  {
   "cell_type": "markdown",
   "id": "05d20857",
   "metadata": {},
   "source": [
    "---"
   ]
  },
  {
   "cell_type": "markdown",
   "id": "f486625a",
   "metadata": {},
   "source": [
    "## Week 5 Day 1: Random Variables & Probability Distributions\n",
    "\n",
    "* Let us toss a fair coin. Two outcomes are possible: **H** or **T**. Let us introduce a variable $X$ that will count the number of **H** when tossing.\n",
    "* $X \\in \\{0, 1\\}$ -- there are two possible values for $X$:\n",
    "    * $X = 0$ means that **H** has not occurred\n",
    "    * $X = 1$ means that **H** has occurred\n",
    "\n",
    "We can summarize the outcomes in a table or on a bar graph"
   ]
  },
  {
   "cell_type": "code",
   "execution_count": 74,
   "id": "c853612d",
   "metadata": {},
   "outputs": [
    {
     "data": {
      "text/html": [
       "<div>\n",
       "<style scoped>\n",
       "    .dataframe tbody tr th:only-of-type {\n",
       "        vertical-align: middle;\n",
       "    }\n",
       "\n",
       "    .dataframe tbody tr th {\n",
       "        vertical-align: top;\n",
       "    }\n",
       "\n",
       "    .dataframe thead th {\n",
       "        text-align: right;\n",
       "    }\n",
       "</style>\n",
       "<table border=\"1\" class=\"dataframe\">\n",
       "  <thead>\n",
       "    <tr style=\"text-align: right;\">\n",
       "      <th></th>\n",
       "      <th>0</th>\n",
       "      <th>1</th>\n",
       "    </tr>\n",
       "  </thead>\n",
       "  <tbody>\n",
       "    <tr>\n",
       "      <th>P(X=x)</th>\n",
       "      <td>0.5</td>\n",
       "      <td>0.5</td>\n",
       "    </tr>\n",
       "  </tbody>\n",
       "</table>\n",
       "</div>"
      ],
      "text/plain": [
       "          0    1\n",
       "P(X=x)  0.5  0.5"
      ]
     },
     "metadata": {},
     "output_type": "display_data"
    },
    {
     "data": {
      "image/png": "[encoded data removed]",
      "text/plain": [
       "<Figure size 400x300 with 1 Axes>"
      ]
     },
     "metadata": {},
     "output_type": "display_data"
    }
   ],
   "source": [
    "table = pd.DataFrame(columns = ['0', '1'],\n",
    "                     index = ['P(X=x)'])\n",
    "\n",
    "table.loc['P(X=x)'] = [0.5, 0.5]\n",
    "\n",
    "display(table)\n",
    "\n",
    "plt.figure(figsize=(4, 3))\n",
    "plt.bar(x = ['0', '1'], height = [0.5, 0.5])\n",
    "plt.title('P(X = x)')\n",
    "plt.xlabel('# of heads in 1 toss')\n",
    "plt.ylabel('probability')\n",
    "plt.show()"
   ]
  },
  {
   "cell_type": "markdown",
   "id": "13d6138a",
   "metadata": {},
   "source": [
    "---\n",
    "\n",
    "# Continuation (Day 2 / Part 2)"
   ]
  },
  {
   "cell_type": "markdown",
   "id": "10fb0583",
   "metadata": {},
   "source": [
    "### Example\n",
    "As the head of inventory for Knowway Computer Company, you were thrilled that you had managed to ship 2 computers to your biggest client the day the order arrived. You are horrified, though, to find out that someone had restocked refurbished computers in with the new computers in your storeroom. The shipped computers were selected randomly from the 15 computers in stock, but 4 of those were actually refurbished.\n",
    "* If your client gets 2 new computers, things are fine.\n",
    "* If the client gets one refurbished computer, it will be sent back at your expense \\$100 and you can replace it.\n",
    "* However, if both computers are refurbished, the client will cancel the order this month and you’ll lose a total of \\$1000.\n",
    "\n",
    "If $L$ is the random variable \"amount of money you lose\", then give the possible values for $L$ and find their probabilities."
   ]
  },
  {
   "cell_type": "code",
   "execution_count": 25,
   "id": "750098a3",
   "metadata": {},
   "outputs": [],
   "source": [
    "def choose_computers(n=2):\n",
    "    c, computers = [], [*range(1, 16)]\n",
    "\n",
    "    for i in range(n):\n",
    "\n",
    "        comp = random.choice(computers)\n",
    "\n",
    "        computers.remove(comp)\n",
    "\n",
    "        c.append(comp)\n",
    "\n",
    "    return c"
   ]
  },
  {
   "cell_type": "code",
   "execution_count": 12,
   "id": "9a0c6fb0",
   "metadata": {},
   "outputs": [
    {
     "data": {
      "text/plain": [
       "(9, 11, [1, 2, 3, 4, 5, 6, 7, 8, 10, 12, 13, 14, 15])"
      ]
     },
     "execution_count": 12,
     "metadata": {},
     "output_type": "execute_result"
    }
   ],
   "source": [
    "computers = [*range(1, 16)]\n",
    "\n",
    "computer_1 = random.choice(computers)\n",
    "\n",
    "computers.remove(computer_1)\n",
    "\n",
    "computer_2 = random.choice(computers)\n",
    "\n",
    "computers.remove(computer_2)\n",
    "\n",
    "computer_1, computer_2, computers"
   ]
  },
  {
   "cell_type": "code",
   "execution_count": 77,
   "id": "b75bb17f",
   "metadata": {
    "scrolled": false
   },
   "outputs": [
    {
     "name": "stdout",
     "output_type": "stream",
     "text": [
      "L = [0.5308 0.4068 0.0624]\n"
     ]
    },
    {
     "data": {
      "text/html": [
       "<div>\n",
       "<style scoped>\n",
       "    .dataframe tbody tr th:only-of-type {\n",
       "        vertical-align: middle;\n",
       "    }\n",
       "\n",
       "    .dataframe tbody tr th {\n",
       "        vertical-align: top;\n",
       "    }\n",
       "\n",
       "    .dataframe thead th {\n",
       "        text-align: right;\n",
       "    }\n",
       "</style>\n",
       "<table border=\"1\" class=\"dataframe\">\n",
       "  <thead>\n",
       "    <tr style=\"text-align: right;\">\n",
       "      <th></th>\n",
       "      <th>0</th>\n",
       "      <th>100</th>\n",
       "      <th>1000</th>\n",
       "    </tr>\n",
       "  </thead>\n",
       "  <tbody>\n",
       "    <tr>\n",
       "      <th>L</th>\n",
       "      <td>0.5308</td>\n",
       "      <td>0.4068</td>\n",
       "      <td>0.0624</td>\n",
       "    </tr>\n",
       "  </tbody>\n",
       "</table>\n",
       "</div>"
      ],
      "text/plain": [
       "     0       100     1000\n",
       "L  0.5308  0.4068  0.0624"
      ]
     },
     "execution_count": 77,
     "metadata": {},
     "output_type": "execute_result"
    }
   ],
   "source": [
    "n = 5000\n",
    "\n",
    "L = np.array([0, 0, 0])\n",
    "\n",
    "for i in range(n):\n",
    "    computer1, computer2 = choose_computers()\n",
    "    \n",
    "    R = 0\n",
    "    \n",
    "    if computer1 <= 4:\n",
    "        R += 1\n",
    "\n",
    "    if computer2 <= 4:\n",
    "        R += 1\n",
    "    \n",
    "    # R = 2 (we have 2 refurbished computers L = 1000):\n",
    "    # R = 1 (we have 1 refurbished and 1 new computer L = 100):\n",
    "    # R = 0 (we have 2 new computers L = 0):\n",
    "    L[R] += 1\n",
    "\n",
    "L = L / n\n",
    "\n",
    "df_L = pd.DataFrame([], columns=[0, 100, 1000], index=['L'])\n",
    "\n",
    "print(f\"L = {L}\")\n",
    "\n",
    "df_L[0] = [L[0]]\n",
    "df_L[100] = [L[1]]\n",
    "df_L[1000] = [L[2]]\n",
    "\n",
    "df_L"
   ]
  },
  {
   "cell_type": "markdown",
   "id": "d08a643f",
   "metadata": {},
   "source": [
    "---"
   ]
  },
  {
   "cell_type": "markdown",
   "id": "636558d5",
   "metadata": {},
   "source": [
    "### Types of random variables\n",
    "* There are two types of random variables: **discrete** and **continuous**\n",
    "* If the outcomes are “listable” (finite or infinitely many of them), then the random variable is **discrete**.\n",
    "* They can be summarized in tables and bar graphs\n",
    "* For a random variable $X$ with outcomes $x_1, x_2, \\ldots, x_n$ we label $p_i = P(X = x_i)$.\n",
    "* The sum of the probabilities: $p_1 + p_2 + \\ldots + p_n = 1$ \n",
    "* The function that assigns probabilities to the values of a discrete random variable is called **probability mass function (pmf)**\n",
    "\n",
    "\n",
    "### Expected Value, Variance and Standard Deviation\n",
    "* For a random variable we can define \"mean\" which we call **expected value**, or **expectation**, and label by $E(X)$. In similar analogy with descriptive statistics, we can define **variance** $Var(X)$ and **standard deviation** $\\sigma_X$. They are given by\n",
    "\n",
    "\\begin{equation}\n",
    "\\begin{array}{rcl}\n",
    "E(X) &=& \\displaystyle\\sum_{i=1}^{n} x_i \\cdot P(X=x_i)\\\\\n",
    "Var(X) &=& \\displaystyle\\sum_{i=1}^{n} \\Big(x_i - E(X) \\Big)^2 \\cdot P(X=x_i)\\\\\n",
    "\\sigma_X &=& \\sqrt{Var(X)}\n",
    "\\end{array}\n",
    "\\end{equation}\n",
    "\n",
    "\n",
    "### Example 3\n",
    "Calculate the $E(L)$, $Var(L)$ and $\\sigma_L$ for the random variable $L$ in **Example 2**"
   ]
  },
  {
   "cell_type": "code",
   "execution_count": 81,
   "id": "03c2112d",
   "metadata": {},
   "outputs": [
    {
     "name": "stdout",
     "output_type": "stream",
     "text": [
      "mean = 4.6\n",
      "sigma = 3.3823069050575527\n",
      "median = 3.0\n"
     ]
    }
   ],
   "source": [
    "x = np.array([1, 2, 3, 7, 10])\n",
    "\n",
    "\n",
    "print(f\"mean = {x.mean()}\")\n",
    "print(f\"sigma = {x.std()}\")\n",
    "print(f\"median = {np.median(x)}\")\n"
   ]
  },
  {
   "cell_type": "markdown",
   "id": "c873309e",
   "metadata": {},
   "source": [
    "### Example \n",
    "\n",
    "Calculate the $E(X)$, $Var(X)$ and $\\sigma_X$ for the random variable $X$. The random variable $X$ models throwing dice with certain probabilities."
   ]
  },
  {
   "cell_type": "code",
   "execution_count": 112,
   "id": "1f0926a3",
   "metadata": {},
   "outputs": [
    {
     "name": "stdout",
     "output_type": "stream",
     "text": [
      "mean = 3.5194\n",
      "freq = [0.1672 0.1662 0.1642 0.16   0.1672 0.1752]\n"
     ]
    },
    {
     "data": {
      "image/png": "[encoded data removed]",
      "text/plain": [
       "<Figure size 400x200 with 1 Axes>"
      ]
     },
     "metadata": {},
     "output_type": "display_data"
    }
   ],
   "source": [
    "dice = np.array([1, 2, 3, 4, 5, 6])\n",
    "\n",
    "n = 5000\n",
    "\n",
    "mean = 0\n",
    "\n",
    "freq = np.zeros(6)\n",
    "\n",
    "for i in range(n):\n",
    "    d = np.random.choice(dice, p=[1/6, 1/6, 1/6, 1/6, 1/6, 1/6])\n",
    "    \n",
    "    mean += d\n",
    "    \n",
    "    freq[d - 1] += 1\n",
    "\n",
    "mean = mean / n\n",
    "\n",
    "freq = freq / n\n",
    "\n",
    "print(f\"mean = {mean}\")\n",
    "print(f\"freq = {freq}\")\n",
    "\n",
    "plt.figure(figsize=(4, 2))\n",
    "\n",
    "plt.bar(dice, freq)\n",
    "\n",
    "plt.show()"
   ]
  },
  {
   "cell_type": "code",
   "execution_count": 114,
   "id": "724919ca",
   "metadata": {},
   "outputs": [
    {
     "name": "stdout",
     "output_type": "stream",
     "text": [
      "mean = 2.0774\n",
      "freq = [0.4052 0.3988 0.053  0.0466 0.0492 0.0472]\n"
     ]
    },
    {
     "data": {
      "image/png": "[encoded data removed]",
      "text/plain": [
       "<Figure size 400x200 with 1 Axes>"
      ]
     },
     "metadata": {},
     "output_type": "display_data"
    }
   ],
   "source": [
    "dice = np.array([1, 2, 3, 4, 5, 6])\n",
    "\n",
    "n = 5000\n",
    "\n",
    "mean = 0\n",
    "\n",
    "freq = np.zeros(6)\n",
    "\n",
    "for i in range(n):\n",
    "    d = np.random.choice(dice, p=[0.4, 0.4, 0.05, 0.05, 0.05, 0.05])\n",
    "    \n",
    "    mean += d\n",
    "    \n",
    "    freq[d - 1] += 1\n",
    "\n",
    "mean = mean / n\n",
    "\n",
    "freq = freq / n\n",
    "\n",
    "print(f\"mean = {mean}\")\n",
    "print(f\"freq = {freq}\")\n",
    "\n",
    "plt.figure(figsize=(4, 2))\n",
    "\n",
    "plt.bar(dice, freq)\n",
    "\n",
    "plt.show()"
   ]
  },
  {
   "cell_type": "code",
   "execution_count": 120,
   "id": "6b800271",
   "metadata": {},
   "outputs": [
    {
     "name": "stdout",
     "output_type": "stream",
     "text": [
      "E1(dice) = Sum(p1_i * dice_i) = 3.5\n",
      "Var1(dice) = Sum(p1_i * (dice_i - E1(dice)) ** 2) = 12.249999999999998\n",
      "sigma1(dice) = sqrt(Var1(dice)) = 3.4999999999999996\n",
      "---\n",
      "E2(dice) = Sum(p2_i * dice_i) = 2.1\n",
      "Var2(dice) = Sum(p2_i * (dice_i - E2(dice)) ** 2) = 4.410000000000001\n",
      "sigma2(dice) = sqrt(Var2(dice)) = 2.1\n"
     ]
    }
   ],
   "source": [
    "dice = np.array([1, 2, 3, 4, 5, 6])\n",
    "\n",
    "p1 = np.array([1/6, 1/6, 1/6, 1/6, 1/6, 1/6])\n",
    "\n",
    "p2 = np.array([0.4, 0.4, 0.05, 0.05, 0.05, 0.05])\n",
    "\n",
    "print(f\"E1(dice) = Sum(p1_i * dice_i) = {sum(p1 * dice)}\")\n",
    "print(f\"Var1(dice) = Sum(p1_i * (dice_i - E1(dice)) ** 2) = {sum(p1 * (sum(p1 * dice)) ** 2)}\")\n",
    "print(f\"sigma1(dice) = sqrt(Var1(dice)) = {np.sqrt(sum(p1 * (sum(p1 * dice)) ** 2))}\")\n",
    "print(\"---\")\n",
    "print(f\"E2(dice) = Sum(p2_i * dice_i) = {sum(p2 * dice)}\")\n",
    "print(f\"Var2(dice) = Sum(p2_i * (dice_i - E2(dice)) ** 2) = {sum(p2 * (sum(p2 * dice)) ** 2)}\")\n",
    "print(f\"sigma2(dice) = sqrt(Var2(dice)) = {np.sqrt(sum(p2 * (sum(p2 * dice)) ** 2))}\")"
   ]
  },
  {
   "cell_type": "markdown",
   "id": "edf1f63a",
   "metadata": {},
   "source": [
    "---\n",
    "\n",
    "# Part 3"
   ]
  },
  {
   "cell_type": "markdown",
   "id": "57c33cb6",
   "metadata": {},
   "source": [
    "### Continuous Random Variables\n",
    "\n",
    "* In some cases, outcomes cannot be listed, e.g. measuring heights or weights of people\n",
    "* In such cases the random variables we work with are called **continuous random variables**\n",
    "* The role of the pmf is taken by a **probability density function (pdf)**\n",
    "* The pdf, say $f(x)$, has a property that\n",
    "\\begin{equation} \\int_{-\\infty}^{+\\infty} f(x)\\, dx = 1\\end{equation}\n",
    "* Let $X$ be a continuous random variable and let $[a, b]$ be an interval of possible outcomes. We define the probability that $X \\in [a, b]$, or $a \\leqslant X \\leqslant b$, by\n",
    "\\begin{equation}\n",
    "P(X \\in [a, b]) = P(a \\leqslant X \\leqslant b) = \\int_a^b f(x)\\, dx\n",
    "\\end{equation}\n",
    "\n",
    "### Example 4\n",
    "Let $X$ be a random variable such that $X \\in [0, 1]$, and the pdf is given by\n",
    "\\begin{equation}f(x) = \\frac{15}{2} x^2 (1-x^2)\\end{equation}\n",
    "* Show that that $f(x)$ is really a pdf, i.e. that $P(0 \\leqslant X \\leqslant 1) = 1$\n",
    "* Find the probability that $X \\in [0.5, 0.8]$"
   ]
  },
  {
   "cell_type": "code",
   "execution_count": 16,
   "id": "19575f7b",
   "metadata": {},
   "outputs": [
    {
     "name": "stdout",
     "output_type": "stream",
     "text": [
      "P(0 <= x <= 1) = 1.00000000000000\n",
      "P(0.5 <= x <= 0.8) = 0.522855000000000\n"
     ]
    }
   ],
   "source": [
    "x = sp.Symbol('x')\n",
    "\n",
    "f = (15 / 2) * x ** 2 * (1 - x ** 2)\n",
    "\n",
    "a, b = 0, 1\n",
    "\n",
    "F = sp.integrate(f, (x, a, b))\n",
    "\n",
    "print(f\"P({a} <= x <= {b}) = {F}\")\n",
    "\n",
    "a, b = 0.5, 0.8\n",
    "\n",
    "print(f\"P({a} <= x <= {b}) = {sp.integrate(f, (x, a, b))}\")"
   ]
  },
  {
   "cell_type": "markdown",
   "id": "d707f938",
   "metadata": {},
   "source": [
    "---"
   ]
  },
  {
   "cell_type": "markdown",
   "id": "70d7978c",
   "metadata": {},
   "source": [
    "### Expected Value, Variance and Standard Deviation for continuous variables\n",
    "* For a random variable $X$ with a pdf $f(x)$, we define the expected value$E(X)$, the variance $Var(X)$ and the standard deviation $\\sigma_X$ as\n",
    "\\begin{equation}\n",
    "\\begin{array}{rcl}\n",
    "E(X) &=& \\displaystyle\\int_{-\\infty}^{+\\infty} x \\cdot f(x)\\, dx\\\\\n",
    "Var(X) &=& \\displaystyle\\int_{-\\infty}^{+\\infty} \\Big(x - E(X) \\Big)^2 \\cdot f(x)\\, dx\\\\\n",
    "\\sigma_X &=& \\sqrt{Var(X)}\n",
    "\\end{array}\n",
    "\\end{equation}\n",
    "\n",
    "**Notes:**\n",
    "* The $E(X)$ and $Var(X)$ exists only if the integral returns a finite value\n",
    "* Instead of infinite boundaries, we will be using the smallest and largest value that the pdf can take\n",
    "\n",
    "### Example 5\n",
    "For the random variable $X$ given in **Example 4** calculate the expectation, the variance and the standard deviation"
   ]
  },
  {
   "cell_type": "code",
   "execution_count": 29,
   "id": "cdf4535b",
   "metadata": {},
   "outputs": [
    {
     "name": "stdout",
     "output_type": "stream",
     "text": [
      "E = 0.625000000000000\n",
      "Var = 0.0379464285714286\n",
      "sigma = 0.194798430618495\n"
     ]
    }
   ],
   "source": [
    "# Define and init variables:\n",
    "x = sp.Symbol('x')\n",
    "\n",
    "# Define the function f(x):\n",
    "f = (15 / 2) * x ** 2 * (1 - x ** 2)\n",
    "\n",
    "# Define the integral for the calculation of P(a <= x <= b):\n",
    "P = lambda a, b : sp.integrate(f, (x, a, b))\n",
    "\n",
    "E = sp.integrate(x * f, (x, 0, 1))\n",
    "\n",
    "Var = sp.integrate((x - E) ** 2 * f, (x, 0, 1))\n",
    "\n",
    "sigma = sp.sqrt(Var)\n",
    "\n",
    "print(f\"E = {E}\")\n",
    "print(f\"Var = {Var}\")\n",
    "print(f\"sigma = {sigma}\")"
   ]
  },
  {
   "cell_type": "code",
   "execution_count": null,
   "id": "38d6f0be",
   "metadata": {},
   "outputs": [],
   "source": []
  },
  {
   "cell_type": "markdown",
   "id": "0d9eff5c",
   "metadata": {},
   "source": [
    "---"
   ]
  },
  {
   "cell_type": "markdown",
   "id": "2aa39e74",
   "metadata": {},
   "source": [
    "### Practice\n",
    "A continuous random variable $X$ has a pdf $f(x)$ given by\n",
    "\\begin{equation}\n",
    "f(x) = 6(x - x^2)\n",
    "\\end{equation}\n",
    "for $x \\in [0, 1]$. Calculate:\n",
    "\n",
    "a) $P(0.2 \\leqslant X \\leqslant 0.8)$\n",
    "\n",
    "b) $P(X \\leqslant 0.7)$\n",
    "\n",
    "c) $P(X \\geqslant 0.9)$\n",
    "\n",
    "d) $\\sigma_X$"
   ]
  },
  {
   "cell_type": "code",
   "execution_count": 35,
   "id": "71d6b273",
   "metadata": {},
   "outputs": [
    {
     "name": "stdout",
     "output_type": "stream",
     "text": [
      "a) P(0.2 <= X <= 0.8) = 0.79\n",
      "b) P(0 <= X <= 0.7) = 0.78\n",
      "c) P(0.9 <= X <= 1) = 0.03\n",
      "d) sigma(x) = sqrt(30)/20\n"
     ]
    }
   ],
   "source": [
    "# Define variable(s):\n",
    "x = sp.Symbol('x')\n",
    "\n",
    "# Define f(x):\n",
    "f = 6 * (x - x ** 2)\n",
    "\n",
    "# Define pdf / cdf:\n",
    "P = lambda a, b: sp.integrate(f, (x, a, b))\n",
    "\n",
    "print(f\"a) P(0.2 <= X <= 0.8) = {round(P(0.2, 0.8), 2)}\")\n",
    "print(f\"b) P(0 <= X <= 0.7) = {round(P(0, 0.7), 2)}\")\n",
    "print(f\"c) P(0.9 <= X <= 1) = {round(P(0.9, 1), 2)}\")\n",
    "\n",
    "E = sp.integrate(x * f, (x, 0, 1))\n",
    "Var = sp.integrate((x * E) ** 2 * f, (x, 0, 1))\n",
    "\n",
    "print(f\"d) sigma(x) = {sp.sqrt(Var)}\")\n"
   ]
  }
 ],
 "metadata": {
  "kernelspec": {
   "display_name": "Python 3 (ipykernel)",
   "language": "python",
   "name": "python3"
  },
  "language_info": {
   "codemirror_mode": {
    "name": "ipython",
    "version": 3
   },
   "file_extension": ".py",
   "mimetype": "text/x-python",
   "name": "python",
   "nbconvert_exporter": "python",
   "pygments_lexer": "ipython3",
   "version": "3.10.9"
  }
 },
 "nbformat": 4,
 "nbformat_minor": 5
}
